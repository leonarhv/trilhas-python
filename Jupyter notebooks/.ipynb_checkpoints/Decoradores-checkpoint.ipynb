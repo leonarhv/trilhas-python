{
 "cells": [
  {
   "cell_type": "markdown",
   "metadata": {},
   "source": [
    "# 2.8 Decoradores\n",
    "### Modifica ou adiciona um novo comportamento a uma função"
   ]
  },
  {
   "cell_type": "code",
   "execution_count": 2,
   "metadata": {},
   "outputs": [],
   "source": [
    "def info(nome):\n",
    "    return \"Bem-vindo {} ao nosso sistema\".format(nome)"
   ]
  },
  {
   "cell_type": "code",
   "execution_count": 6,
   "metadata": {},
   "outputs": [],
   "source": [
    "def decorador_p(func):\n",
    "    def funcao_encapsulada(nome):\n",
    "        return \"<p>{}</p>\".format(func(nome))\n",
    "    return funcao_encapsulada"
   ]
  },
  {
   "cell_type": "code",
   "execution_count": 8,
   "metadata": {},
   "outputs": [],
   "source": [
    "info_em_p = decorador_p(info)"
   ]
  },
  {
   "cell_type": "code",
   "execution_count": 9,
   "metadata": {},
   "outputs": [
    {
     "name": "stdout",
     "output_type": "stream",
     "text": [
      "<p>Bem-vindo Leo ao nosso sistema</p>\n"
     ]
    }
   ],
   "source": [
    "print(info_em_p(\"Leo\"))"
   ]
  },
  {
   "cell_type": "markdown",
   "metadata": {},
   "source": [
    "### Definindo uma função de uso geral"
   ]
  },
  {
   "cell_type": "code",
   "execution_count": 11,
   "metadata": {},
   "outputs": [],
   "source": [
    "def dec_p(func):\n",
    "    def funcao_encapsulada(*args, **kwargs):\n",
    "        return \"<p>{}</p>\".format(func(*args, **kwargs))\n",
    "    return funcao_encapsulada"
   ]
  },
  {
   "cell_type": "code",
   "execution_count": 14,
   "metadata": {},
   "outputs": [],
   "source": [
    "@dec_p\n",
    "def texto(texto, dia):\n",
    "    return \"Seu texto, feito no dia {}, formatado para html: {}\".format(dia, texto)"
   ]
  },
  {
   "cell_type": "code",
   "execution_count": 18,
   "metadata": {},
   "outputs": [
    {
     "name": "stdout",
     "output_type": "stream",
     "text": [
      "<p>Seu texto, feito no dia 22, formatado para html: oi</p>\n"
     ]
    }
   ],
   "source": [
    "print(texto(\"oi\", 22))"
   ]
  },
  {
   "cell_type": "markdown",
   "metadata": {},
   "source": [
    "### Gerador de tags HTML"
   ]
  },
  {
   "cell_type": "code",
   "execution_count": 19,
   "metadata": {},
   "outputs": [],
   "source": [
    "def tag(nome_da_tag):\n",
    "    def decorador_tag(func):\n",
    "        def funcao_encapsulada(*args, **kwargs):\n",
    "            return \"<{0}>{1}</{0}>\".format(nome_da_tag, *args, **kwargs)\n",
    "        return funcao_encapsulada\n",
    "    return decorador_tag"
   ]
  },
  {
   "cell_type": "code",
   "execution_count": 24,
   "metadata": {},
   "outputs": [],
   "source": [
    "@tag(\"h1\")\n",
    "def mostraTexto(texto):\n",
    "    return texto"
   ]
  },
  {
   "cell_type": "code",
   "execution_count": 25,
   "metadata": {},
   "outputs": [
    {
     "data": {
      "text/plain": [
       "'<h1>Teste</h1>'"
      ]
     },
     "execution_count": 25,
     "metadata": {},
     "output_type": "execute_result"
    }
   ],
   "source": [
    "mostraTexto(\"Teste\")"
   ]
  }
 ],
 "metadata": {
  "kernelspec": {
   "display_name": "Python 3",
   "language": "python",
   "name": "python3"
  },
  "language_info": {
   "codemirror_mode": {
    "name": "ipython",
    "version": 3
   },
   "file_extension": ".py",
   "mimetype": "text/x-python",
   "name": "python",
   "nbconvert_exporter": "python",
   "pygments_lexer": "ipython3",
   "version": "3.6.5"
  }
 },
 "nbformat": 4,
 "nbformat_minor": 2
}
